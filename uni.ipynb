{
 "cells": [
  {
   "cell_type": "code",
   "execution_count": 14,
   "id": "593b9eb6",
   "metadata": {},
   "outputs": [],
   "source": [
    "import numpy as np"
   ]
  },
  {
   "cell_type": "code",
   "execution_count": 15,
   "id": "018506da",
   "metadata": {},
   "outputs": [],
   "source": [
    "First, Seccond, sami = np.loadtxt('data.txt', delimiter=' ', unpack=True)"
   ]
  },
  {
   "cell_type": "code",
   "execution_count": 16,
   "id": "ff0300e0",
   "metadata": {},
   "outputs": [],
   "source": [
    "firstStudent = {}; seccondStuend = {}; samiScores = {}"
   ]
  },
  {
   "cell_type": "code",
   "execution_count": 17,
   "id": "a5d1c87a",
   "metadata": {},
   "outputs": [],
   "source": [
    "firstStudent['ID'] = First[0]\n",
    "firstStudent['Quiz'] = [First[i] for i in range(1,7)]\n",
    "firstStudent['Assignment'] = [First[i] for i in range(7,11)]\n",
    "firstStudent['Final'] = [First[11]]\n",
    "firstStudent['Midterm'] = [First[12]]"
   ]
  },
  {
   "cell_type": "code",
   "execution_count": 18,
   "id": "0b7bed6c",
   "metadata": {},
   "outputs": [],
   "source": [
    "seccondStuend['ID'] = Seccond[0]\n",
    "seccondStuend['Quiz'] = [Seccond[i] for i in range(1,7)]\n",
    "seccondStuend['Assignment'] = [Seccond[i] for i in range(7,11)]\n",
    "seccondStuend['Final'] = [Seccond[11]]\n",
    "seccondStuend['Midterm'] = [Seccond[12]]"
   ]
  },
  {
   "cell_type": "code",
   "execution_count": 19,
   "id": "a81cba07",
   "metadata": {},
   "outputs": [],
   "source": [
    "samiScores['ID'] = sami[0]\n",
    "samiScores['Quiz'] = [sami[i] for i in range(1,7)]\n",
    "samiScores['Assignment'] = [sami[i] for i in range(7,11)]\n",
    "samiScores['Final'] = [sami[11]]\n",
    "samiScores['Midterm'] = [sami[12]]"
   ]
  },
  {
   "cell_type": "code",
   "execution_count": 20,
   "id": "90073c1e",
   "metadata": {},
   "outputs": [],
   "source": [
    "firstStudent['Quiz'].sort()\n",
    "firstStudent['Quiz'].remove(firstStudent['Quiz'][0])\n",
    "firstStudent['Quiz'].remove(firstStudent['Quiz'][0])\n",
    "firstStudent['Assignment'].sort()\n",
    "firstStudent['Assignment'].remove(firstStudent['Assignment'][0])"
   ]
  },
  {
   "cell_type": "code",
   "execution_count": 21,
   "id": "79e978ab",
   "metadata": {},
   "outputs": [],
   "source": [
    "seccondStuend['Quiz'].sort()\n",
    "seccondStuend['Quiz'].remove(seccondStuend['Quiz'][0])\n",
    "seccondStuend['Quiz'].remove(seccondStuend['Quiz'][0])\n",
    "seccondStuend['Assignment'].sort()\n",
    "seccondStuend['Assignment'].remove(seccondStuend['Assignment'][0])"
   ]
  },
  {
   "cell_type": "code",
   "execution_count": 22,
   "id": "68db74f5",
   "metadata": {},
   "outputs": [],
   "source": [
    "samiScores['Quiz'].sort()\n",
    "samiScores['Quiz'].remove(samiScores['Quiz'][0])\n",
    "samiScores['Quiz'].remove(samiScores['Quiz'][0])\n",
    "samiScores['Assignment'].sort()\n",
    "samiScores['Assignment'].remove(samiScores['Assignment'][0])"
   ]
  },
  {
   "cell_type": "code",
   "execution_count": 23,
   "id": "74a4837d",
   "metadata": {},
   "outputs": [],
   "source": [
    "FirstQuiz = 0; SeccondQuiz = 0; samiQuiz = 0\n",
    "for i in range(4):\n",
    "    FirstQuiz += firstStudent['Quiz'][i]\n",
    "    SeccondQuiz += seccondStuend['Quiz'][i]\n",
    "    samiQuiz += samiScores['Quiz'][i]\n",
    "FirstQuiz /= 4; SeccondQuiz /= 4; samiQuiz /= 4"
   ]
  },
  {
   "cell_type": "code",
   "execution_count": 24,
   "id": "8a5972f2",
   "metadata": {},
   "outputs": [],
   "source": [
    "FirstAssignment = 0; SeccondAssignment = 0; samiAssignment = 0\n",
    "for i in range(3):\n",
    "    FirstAssignment += firstStudent['Assignment'][i]\n",
    "    SeccondAssignment += seccondStuend['Assignment'][i]\n",
    "    samiAssignment += samiScores['Assignment'][i]\n",
    "FirstAssignment /= 3; SeccondAssignment /= 3; samiAssignment /= 3; "
   ]
  },
  {
   "cell_type": "code",
   "execution_count": 25,
   "id": "ff125309",
   "metadata": {},
   "outputs": [
    {
     "name": "stdout",
     "output_type": "stream",
     "text": [
      "{'First_Ave': 18.3125, 'Seccond_Ave': 9.4375, 'sami_Ave': 15.541666666666666}\n"
     ]
    }
   ],
   "source": [
    "Average = {}\n",
    "Average['First_Ave'] = FirstQuiz * 0.25 + FirstAssignment * 0.25 + firstStudent['Final'][0] * 0.25 + firstStudent['Midterm'][0] * 0.25\n",
    "Average['Seccond_Ave'] = SeccondQuiz * 0.25 + SeccondAssignment * 0.25 + seccondStuend['Final'][0] * 0.25 + seccondStuend['Midterm'][0] * 0.25\n",
    "Average['sami_Ave'] = samiQuiz * 0.25 + samiAssignment * 0.25 + samiScores['Final'][0] * 0.25 + samiScores['Midterm'][0] * 0.25\n",
    "print(Average)"
   ]
  },
  {
   "cell_type": "code",
   "execution_count": 26,
   "id": "c97e4f08",
   "metadata": {},
   "outputs": [
    {
     "name": "stdout",
     "output_type": "stream",
     "text": [
      "{'First': 'Passed', 'Seccond': 'rejected', 'sami': 'Passed'}\n"
     ]
    }
   ],
   "source": [
    "results = {}\n",
    "results['First'] = 'Passed' if Average['First_Ave'] >= 10 else 'rejected'\n",
    "results['Seccond'] = 'Passed' if Average['Seccond_Ave'] >= 10 else 'rejected'\n",
    "results['sami'] = 'Passed' if Average['sami_Ave'] >= 10 else 'rejected'\n",
    "print(results)"
   ]
  },
  {
   "cell_type": "code",
   "execution_count": null,
   "id": "5bd43620",
   "metadata": {},
   "outputs": [],
   "source": []
  }
 ],
 "metadata": {
  "kernelspec": {
   "display_name": "Python 3 (ipykernel)",
   "language": "python",
   "name": "python3"
  },
  "language_info": {
   "codemirror_mode": {
    "name": "ipython",
    "version": 3
   },
   "file_extension": ".py",
   "mimetype": "text/x-python",
   "name": "python",
   "nbconvert_exporter": "python",
   "pygments_lexer": "ipython3",
   "version": "3.9.13"
  }
 },
 "nbformat": 4,
 "nbformat_minor": 5
}
